{
 "cells": [
  {
   "cell_type": "markdown",
   "id": "8a77807f92f26ee",
   "metadata": {},
   "source": [
    "# AI21 x Sundai\n",
    "## Prerequisites\n",
    "login and get your API Key with your credentials to https://studio.ai21.com/"
   ]
  },
  {
   "cell_type": "code",
   "execution_count": null,
   "id": "fbc121e30a2defb3",
   "metadata": {},
   "outputs": [],
   "source": [
    "! pip install ai21"
   ]
  },
  {
   "cell_type": "code",
   "execution_count": null,
   "id": "99de0133cfc85cd0",
   "metadata": {},
   "outputs": [],
   "source": [
    "from ai21 import AI21Client\n",
    "\n",
    "api_key = \"YOUR API KEY HERE\"\n",
    "\n",
    "client = AI21Client(api_key=api_key)"
   ]
  },
  {
   "cell_type": "markdown",
   "id": "3294c6a15946fad9",
   "metadata": {},
   "source": [
    "## Examples"
   ]
  },
  {
   "cell_type": "code",
   "execution_count": null,
   "id": "989b09af39ee074f",
   "metadata": {},
   "outputs": [],
   "source": [
    "run = client.beta.maestro.runs.create_and_poll(\n",
    "    input=\"Write a poem about hackathons\",\n",
    "    requirements=[\n",
    "        {\n",
    "            \"name\": \"length requirement\",\n",
    "            \"description\": \"The length of the poem should be exactly 5 lines\",\n",
    "        },\n",
    "    ]\n",
    ")\n",
    "\n",
    "print(run.result)"
   ]
  },
  {
   "cell_type": "code",
   "execution_count": null,
   "id": "1e107c3698e38178",
   "metadata": {},
   "outputs": [],
   "source": [
    "run = client.beta.maestro.runs.create_and_poll(\n",
    "    input=\"analyze the following text and determine who is the best pokemon ever\",\n",
    "    context={\"text\": \"Psyduck is the best pokemon\"},\n",
    ")\n",
    "\n",
    "print(run.result)"
   ]
  },
  {
   "cell_type": "code",
   "execution_count": null,
   "id": "173a3f4b00213e6d",
   "metadata": {},
   "outputs": [],
   "source": [
    "run = client.beta.maestro.runs.create_and_poll(\n",
    "    input=\"What's the weather in Boston?\",\n",
    "    tools=[{\"type\": \"web_search\"}],\n",
    ")\n",
    "\n",
    "print(run.result)"
   ]
  },
  {
   "cell_type": "code",
   "execution_count": null,
   "id": "1d50efb08bd1893",
   "metadata": {},
   "outputs": [],
   "source": [
    "# you'll need to upload a file through AI21 Studio\n",
    "run = client.beta.maestro.runs.create_and_poll(\n",
    "    input=\"your question here\",\n",
    "    tools=[{\"type\": \"file_search\"}],\n",
    ")\n",
    "\n",
    "print(run.result)"
   ]
  }
 ],
 "metadata": {
  "kernelspec": {
   "display_name": ".venv",
   "language": "python",
   "name": "python3"
  },
  "language_info": {
   "codemirror_mode": {
    "name": "ipython",
    "version": 2
   },
   "file_extension": ".py",
   "mimetype": "text/x-python",
   "name": "python",
   "nbconvert_exporter": "python",
   "pygments_lexer": "ipython2",
   "version": "3.12.7"
  }
 },
 "nbformat": 4,
 "nbformat_minor": 5
}
